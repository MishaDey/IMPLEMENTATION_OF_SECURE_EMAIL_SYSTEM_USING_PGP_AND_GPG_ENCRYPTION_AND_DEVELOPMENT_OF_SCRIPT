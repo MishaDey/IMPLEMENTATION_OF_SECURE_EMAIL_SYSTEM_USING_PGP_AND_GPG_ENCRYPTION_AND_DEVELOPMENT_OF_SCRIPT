{
 "cells": [
  {
   "cell_type": "markdown",
   "metadata": {
    "colab_type": "text",
    "id": "sz0LQ0IU-QqN"
   },
   "source": [
    "# **PYTHON SCRIPT TO SEND EMAIL USING SMTP**\n",
    "Sending a encrypted email through python can be done using **email package** ( library for managing email messages) and **smtplib** (more details below).\n",
    "\n",
    "## **LIBRARIES,MODULES AND PACKAGES USED :**\n",
    "\n",
    "**1.smtplib - SMTP Protocol Client :**\n",
    "\n",
    "Smtplib ,an library or a module that defines an SMTP(Simple Mail Transfer protocol)client session object which can be used to send any email to any other internet machine with an SMTP or ESMTP listener daemon.\n",
    "\n",
    "**2. ssl - Secure Socket Layer :**\n",
    "\n",
    "Secure Socket Layer (SSL) provide security to the data that is transferred between web browser and server. SSL encrypt the link between a web server and a browser which ensures that all data passed between them remain private and free from attack.\n",
    "\n",
    "**3.Email Package :**\n",
    "The email package is a library for managing email messages, including MIME and other RFC 2822-based message documents. It is specifically not designed to do any sending of email messages to SMTP (RFC 2821), NNTP, or other servers; those are functions of modules such as smtplib and nntplib.\n",
    "\n",
    "**4.MIME - Multipurpose Internet Mail Extensions :**\n",
    "\n",
    "MIME(Multipurpose Internet Mail Extensions) is an Internet standard that extends the format of email messages to support text in character sets other than ASCII, as well as attachments of audio, video, images, and application programs.\n",
    "\n",
    " **MimeMultipart** type is one which represents a document that's comprised of multiple component parts, each of which may have its own individual MIME type.If a message has a multipart Content-Type, that means it consists of multiple messages and each of them defines its own Content-Type (which can again be multipart or something else). \n",
    "\n",
    " **MimeBase** is  the base class for all the MIME-specific subclasses of Message. \n",
    "\n",
    "  **MIMEText** class is used to create MIME objects of major type text.\n",
    " The email package provides some convenient encodings in its encoders module. These encoders are actually used by the MIMEAudio and MIMEImage class constructors to provide default encodings.\n",
    "\n",
    "**5. getpass - Portable Password input :**\n",
    "\n",
    "The getpass module provides a portable way to handle such password prompts securely.\n",
    "\n",
    "\n",
    "\n"
   ]
  },
  {
   "cell_type": "code",
   "execution_count": 12,
   "metadata": {
    "colab": {},
    "colab_type": "code",
    "id": "57HxDAmV5iS-"
   },
   "outputs": [],
   "source": [
    "import os\n",
    "import ssl\n",
    "import smtplib\n",
    "import getpass\n",
    "import pandas as pd\n",
    "from email.mime.multipart import MIMEMultipart\n",
    "from email.mime.multipart import MIMEBase\n",
    "from email.mime.text import MIMEText\n",
    "from email import encoders"
   ]
  },
  {
   "cell_type": "markdown",
   "metadata": {
    "colab_type": "text",
    "id": "uI2X4llKD6ak"
   },
   "source": [
    "**To create the message template, the external file path is used as argument to store message body**"
   ]
  },
  {
   "cell_type": "code",
   "execution_count": 13,
   "metadata": {
    "colab": {},
    "colab_type": "code",
    "id": "4OP4tr6G5iTL"
   },
   "outputs": [],
   "source": [
    "def create_message_template(ext_message_file_path):\n",
    "    message_template_file=open(ext_message_file_path,mode='w',encoding='utf-8')\n",
    "    message_template_file.write(input(\"Enter your message:\"))\n",
    "    message_template_file.close()    "
   ]
  },
  {
   "cell_type": "markdown",
   "metadata": {
    "colab_type": "text",
    "id": "7U1QqRNXFZ4F"
   },
   "source": [
    "**The recipent details (recipents list) will be stored in external file path provided**"
   ]
  },
  {
   "cell_type": "code",
   "execution_count": 14,
   "metadata": {
    "colab": {},
    "colab_type": "code",
    "id": "DtRAw-6x5iTT"
   },
   "outputs": [],
   "source": [
    "def create_recipents_list(ext_contacts_file_path):\n",
    "    recipents=open(ext_contacts_file_path,mode='w',encoding='utf-8')\n",
    "    rescipent_no=input(\"Enter the no. of rescipents:\")\n",
    "    for i in range(rescipent_no):\n",
    "        recipent_list=input(\"Enter your Recipents address: \")\n",
    "        recipents.write(recipents_list+'\\n')\n",
    "    recipents.close()"
   ]
  },
  {
   "cell_type": "markdown",
   "metadata": {
    "colab_type": "text",
    "id": "gOyqeXFlFdaZ"
   },
   "source": [
    "**To extract the list of recipents from external file,function extract_recipents_ext_file takes a ext_contacts_file_path as its argument. The data is split it into two lists recipents_name and email_id**"
   ]
  },
  {
   "cell_type": "code",
   "execution_count": 15,
   "metadata": {
    "colab": {},
    "colab_type": "code",
    "id": "TrYSn0QU5iTZ"
   },
   "outputs": [],
   "source": [
    "def extract_recipents_ext_file(ext_contacts_file_path):\n",
    "    recipent_name=[]\n",
    "    email_id=[]\n",
    "    with open(ext_contacts_file_path, mode='r' , encoding ='utf-8') as ext_cont_file:\n",
    "        for contact in ext_cont_file:\n",
    "            recipent_name.append(contact.split()[0])\n",
    "            email_id.append(contact.split()[1])\n",
    "    return recipent_name,email_id"
   ]
  },
  {
   "cell_type": "markdown",
   "metadata": {
    "colab_type": "text",
    "id": "iQjRIE90HKqy"
   },
   "source": [
    "**The function extract_message_template extracts message from the external file path provided as argument as an object**"
   ]
  },
  {
   "cell_type": "code",
   "execution_count": 16,
   "metadata": {
    "colab": {},
    "colab_type": "code",
    "id": "jBBslBgV5iTg"
   },
   "outputs": [],
   "source": [
    "def extract_message_template(ext_message_file_path):\n",
    "    with open(ext_message_file_path,'r',encoding='utf-8') as message_template_file:\n",
    "        extracted_message=message_template_file.read()\n",
    "    return extracted_message"
   ]
  },
  {
   "cell_type": "markdown",
   "metadata": {
    "colab_type": "text",
    "id": "Ywym1ByPHe72"
   },
   "source": [
    " \n",
    "To personalize the email for the recipent create the **MIMEMultipart message\n",
    "object** and load it with appropriate headers for From, To, and Subject fields.And then attach the message body to the mail.\n",
    "\n",
    "A **MIME attachment** with the content type **\"application/octet-stream\"** is a binary file. Typically, it will be an application or a document that must be opened in an application, such as a spreadsheet or word processor.\n",
    "\n",
    "The payload is the part of transmitted data that is the actual intended message. **set_payload((attachment).read())** , Sets the entire message object’s payload to payload.\n",
    "\n",
    "**Encoders** Encodes the payload into **base64** form and sets the Content-Transfer-Encoding header to base64. This is a good encoding to use when most of your payload is unprintable data since it is a more compact form than quoted-printable.\n",
    "\n",
    "**add_header** extended header setting that adds a header to the message , additional header parameters can be provided as keyword arguments.\n",
    "\n",
    "**Content-Disposition** is the header field to add and **attachment**  is the primary value for the header.\n",
    "And attach the MIME with the **\"application/octet-stream\"** to the message.\n",
    "Finally the personalized email is returned.\n"
   ]
  },
  {
   "cell_type": "code",
   "execution_count": 17,
   "metadata": {
    "colab": {},
    "colab_type": "code",
    "id": "SDdn1K4A5iTp"
   },
   "outputs": [],
   "source": [
    "def send_personalized_email(user_Address,recipent_mail,extracted_message,subject,file_to_attach,attachment,filename):\n",
    "    message=MIMEMultipart()\n",
    "    message['From']=user_Address\n",
    "    message['To']=recipent_mail\n",
    "    message['Subject']=subject\n",
    "    message_body=MIMEText(extracted_message,'plain')\n",
    "    message.attach(message_body)\n",
    "    attach_f=MIMEBase('application','octet-stream')\n",
    "    attach_f.set_payload((attachment).read())\n",
    "    encoders.encode_base64(attach_f)\n",
    "    attach_f.add_header('Content-Disposition',\"attachment; filename =%s\" % filename)\n",
    "    message.attach(attach_f)\n",
    "    return message  "
   ]
  },
  {
   "cell_type": "markdown",
   "metadata": {
    "colab_type": "text",
    "id": "6vnf2t9LS96U"
   },
   "source": [
    "Import the smtplib and then create an **SMTP instance** that encapsulates an **SMTP connection**. It takes as parameter the host address and a port number, both of which entirely depends on the SMPT server settings of your particular email service provider.\n",
    "\n",
    "**smtplib.SMTP(smtp_server, port)** is used to create an SMTP object.\n",
    "\n",
    "**Extended HELO (EHLO)** is an  Extended Simple Mail Transfer Protocol (ESMTP) command sent by an email server to identify itself when connecting to another email server to start the process of sending an email.To identify yourself to the server, **.ehlo() ** should be called after creating an .**SMTP()** object, and again after **.starttls()**.\n",
    "\n",
    "Instead of using **.SMTP_SSL**  to create a connection that is secure from the outset, we can create an unsecured SMTP connection and encrypt it using .**starttls().**\n",
    "\n",
    "For each recipents_name and email_id in **zip(recipent_name,res_email_id)** send_personalized_email function is called to send personalized email to each recipent email_id."
   ]
  },
  {
   "cell_type": "code",
   "execution_count": 18,
   "metadata": {
    "colab": {},
    "colab_type": "code",
    "id": "UV0IBd495iTy"
   },
   "outputs": [],
   "source": [
    "def set_SMPT_server(smtp_server,port,user_Address,User_Password,ext_contacts_file_path,ext_message_file_path):\n",
    "    subject=input(\"Enter Subject: \")\n",
    "    #create_recipents_list(ext_contacts_file_path)\n",
    "    create_message_template(ext_message_file_path)\n",
    "    extracted_message=extract_message_template(ext_message_file_path)\n",
    "    print(extracted_message)\n",
    "    recipent_name,res_email_ids=extract_recipents_ext_file(ext_contacts_file_path)\n",
    "    print(recipent_name,res_email_ids)\n",
    "    context = ssl.create_default_context()\n",
    "    file_to_attach=input(\"Enter the complete file path you wish to attach :\")\n",
    "    attachment=open(file_to_attach,\"rb\")\n",
    "    filename=input(\"Rename the File: \")\n",
    "    with smtplib.SMTP(smtp_server, port) as server:\n",
    "        #server=server.smtplib.SMTP(host_Address,port)\n",
    "        server.ehlo()\n",
    "        server.starttls()\n",
    "        server.ehlo()\n",
    "        server.login(user_Address,User_Password)\n",
    "        print(\"Congratulations!! Connection established!\")\n",
    "        recipent_details=zip(recipent_name,res_email_ids)\n",
    "        for recipent_name,recipent_mail in recipent_details:\n",
    "            message=send_personalized_email(user_Address,recipent_mail,extracted_message,subject,file_to_attach,attachment,filename)\n",
    "            server.send_message(message)\n",
    "            print(\"MESSAGE DELIVERED to {} !!\".format(recipent_mail))\n",
    "        server.quit()    "
   ]
  },
  {
   "cell_type": "markdown",
   "metadata": {
    "colab_type": "text",
    "id": "3fwbW8RHw-lv"
   },
   "source": [
    "**Getting the working directory path and the credentials and passing the details as arguments to the set_SMPT_server function.SMTP host address(for gmail) is 'smtp.gmail.com'. Port number used for gmail is ‘587’.**"
   ]
  },
  {
   "cell_type": "code",
   "execution_count": 19,
   "metadata": {
    "colab": {},
    "colab_type": "code",
    "id": "SNj-_H-k5iT5"
   },
   "outputs": [],
   "source": [
    "def main():\n",
    "    directory_base_path=input(\"Enter the working directory path:\")\n",
    "    ext_contacts_file_name=input(\"Enter the filename containing recipents list:\")\n",
    "    ext_contacts_file_path=os.path.join(directory_base_path,ext_contacts_file_name)\n",
    "    ext_message_file_name=input(\"Enter the filename containing the message :\")\n",
    "    ext_message_file_path=os.path.join(directory_base_path,ext_message_file_name)\n",
    "    host_Address=input(\"Enter the smtp server Address:\")\n",
    "    port=int(input(\"Enter the port number:\"))\n",
    "    user_Address=input(\"Enter User Email Address:\") \n",
    "    print(\"Enter User Password: \")\n",
    "    User_Password=getpass.getpass()\n",
    "    set_SMPT_server(host_Address,port,user_Address,User_Password,ext_contacts_file_path,ext_message_file_path)\n",
    "    "
   ]
  },
  {
   "cell_type": "code",
   "execution_count": 20,
   "metadata": {
    "colab": {},
    "colab_type": "code",
    "id": "hG9Rx4sE5iUA",
    "outputId": "abd93a4d-a7ac-4ff4-d289-86197968c835"
   },
   "outputs": [
    {
     "name": "stdout",
     "output_type": "stream",
     "text": [
      "Enter the working directory path:/home/mishadey/Desktop/MAJOR_PROJECT/CS_MAJOR_DRAFT\n",
      "Enter the filename containing recipents list:ext_rescipents_file.txt\n",
      "Enter the filename containing the message :message_template.txt\n",
      "Enter the smtp server Address:smtp.gmail.com\n",
      "Enter the port number:587\n",
      "Enter User Email Address:misha.2june@gmail.com\n",
      "Enter User Password: \n",
      "········\n",
      "Enter Subject: CYBER SECURITY MAJOR PROJECT TEST MAIL \n",
      "Enter your message:THIS IS THE FINAL TEST MAIL.JUST CONFIRM IF YOU GET IT.\n",
      "THIS IS THE FINAL TEST MAIL.JUST CONFIRM IF YOU GET IT.\n",
      "['mishadey', 'mishelsakshi', 'ashwinrockonn123', 'rashmijalapally', 'singh.anshuman.singh8', 'tanishqm033', 'thanishvishal', 'theakshitkumar', 'uchiha72000', 'jaijoshi0310', 'mittalrohan2001', 'mohdanas1612', 'pandeynishantsagar'] ['misha.2june@gmail.com', 'mishelsakshi@gmail.com', 'ashwinrockon123@gmail.com', 'rashmijalapally@gmail.com', 'singh.anshuman.singh8@gmail.com', 'tanishqm033@gmail.com', 'thanishvishal@gmail.com', 'theakshitkumar@gmail.com', 'uchiha72000@gmail.com', 'jaijoshi0310@gmail.com', 'mittalrohan2001@gmail.com', 'mohdanas1612@gmail.com', 'pandeynishantsagar@gmail.com']\n",
      "Enter the complete file path you wish to attach :/home/mishadey/Desktop/MAJOR_PROJECT/CS_MAJOR_DRAFT/Verzeo_Major.pdf\n",
      "Rename the File: Verzeo_Major.pdf\n",
      "Congratulations!! Connection established!\n",
      "MESSAGE DELIVERED to misha.2june@gmail.com !!\n",
      "MESSAGE DELIVERED to mishelsakshi@gmail.com !!\n",
      "MESSAGE DELIVERED to ashwinrockon123@gmail.com !!\n",
      "MESSAGE DELIVERED to rashmijalapally@gmail.com !!\n",
      "MESSAGE DELIVERED to singh.anshuman.singh8@gmail.com !!\n",
      "MESSAGE DELIVERED to tanishqm033@gmail.com !!\n",
      "MESSAGE DELIVERED to thanishvishal@gmail.com !!\n",
      "MESSAGE DELIVERED to theakshitkumar@gmail.com !!\n",
      "MESSAGE DELIVERED to uchiha72000@gmail.com !!\n",
      "MESSAGE DELIVERED to jaijoshi0310@gmail.com !!\n",
      "MESSAGE DELIVERED to mittalrohan2001@gmail.com !!\n",
      "MESSAGE DELIVERED to mohdanas1612@gmail.com !!\n",
      "MESSAGE DELIVERED to pandeynishantsagar@gmail.com !!\n",
      "THANK YOU. \n",
      "\n"
     ]
    }
   ],
   "source": [
    " if __name__ == '__main__':\n",
    "    try:\n",
    "        main()\n",
    "        print(\"THANK YOU. \\n\")\n",
    "    except:\n",
    "         print(\"Sorry!! Failed to send email!!\")"
   ]
  },
  {
   "cell_type": "code",
   "execution_count": null,
   "metadata": {},
   "outputs": [],
   "source": []
  }
 ],
 "metadata": {
  "colab": {
   "collapsed_sections": [],
   "name": "email_script.ipynb",
   "provenance": []
  },
  "kernelspec": {
   "display_name": "Python 3",
   "language": "python",
   "name": "python3"
  },
  "language_info": {
   "codemirror_mode": {
    "name": "ipython",
    "version": 3
   },
   "file_extension": ".py",
   "mimetype": "text/x-python",
   "name": "python",
   "nbconvert_exporter": "python",
   "pygments_lexer": "ipython3",
   "version": "3.8.5"
  }
 },
 "nbformat": 4,
 "nbformat_minor": 1
}
